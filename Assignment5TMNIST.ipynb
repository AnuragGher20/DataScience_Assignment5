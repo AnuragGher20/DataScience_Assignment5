{
  "nbformat": 4,
  "nbformat_minor": 0,
  "metadata": {
    "colab": {
      "provenance": []
    },
    "kernelspec": {
      "name": "python3",
      "display_name": "Python 3"
    },
    "language_info": {
      "name": "python"
    }
  },
  "cells": [
    {
      "cell_type": "markdown",
      "source": [
        "# Neural Network Type Classification | TMNIST\n",
        "\n",
        "Name: Anurag Gher\n",
        "\n",
        "NUID: 002845719"
      ],
      "metadata": {
        "id": "sNUe8kcUiXhr"
      }
    },
    {
      "cell_type": "markdown",
      "source": [
        "# Introduction :\n",
        "The Typography MNIST (TMNIST) dataset contains over 281,000 MNIST-style images of 94 alphabetic characters, including digits, lowercase and uppercase letters, and symbols. Each character is associated with a unique font style. The dataset is provided in a CSV format with font names, character labels, and pixel values. TMNIST showcases typography diversity and is valuable for exploring character recognition, font design, and cognitive science. It is utilized in projects like Warhol.ai Computational Creativity and Cognitive Type, offering insights into typographic aesthetics and visual cognition."
      ],
      "metadata": {
        "id": "hh_U3qaKisXj"
      }
    },
    {
      "cell_type": "markdown",
      "source": [
        "# About the dataset:\n",
        "The Typography MNIST (TMNIST) dataset comprises 281,000+ images resembling handwritten characters, including uppercase and lowercase letters, digits, and special symbols like '@', '!', and '#'.\n",
        "\n",
        "\n",
        "{'0', '1', '2', '3', '4', '5', '6', '7', '8', '9', 'a', 'b', 'c', 'd', 'e', 'f', 'g', 'h', 'i', 'j', 'k', 'l', 'm', 'n', 'o', 'p', 'q', 'r', 's', 't', 'u', 'v', 'w', 'x', 'y', 'z', 'A', 'B', 'C', 'D', 'E', 'F', 'G', 'H', 'I', 'J', 'K', 'L', 'M', 'N', 'O', 'P', 'Q', 'R', 'S', 'T', 'U', 'V', 'W', 'X', 'Y', 'Z', '!', '\"', '#', '$', '%', '&', \"'\", '(', ')', '*', '+', ',', '-', '.', '/', ':', ';', '<', '=', '>', '?', '@', '[', '\\', ']', '^', '_', '`', '{', '|', '}', '~'}\n",
        "\n",
        "\n",
        " Organized in a CSV file, each row contains image details like font style and character label. Images are represented as 28x28 pixel grids, with grayscale intensities encoded. This dataset is vital for tasks like character recognition and font analysis.\n",
        "\n",
        "\n",
        "Key Points:\n",
        "*   Diverse Characters: 94 characters included, covering alphanumeric and special symbol.\n",
        "*   File Format: Stored in a CSV file for easy access.\n",
        "*   Dataset Size: Over 281,000 images provide substantial training data.\n",
        "\n",
        "Overall, the TMNIST dataset is essential for character recognition and font analysis tasks.\n",
        "\n",
        "\n",
        "\n",
        "Kaggle Link: https://www.kaggle.com/nikbearbrown/tmnist-alphabet-94-characters/"
      ],
      "metadata": {
        "id": "8RDvPL_hkt9r"
      }
    },
    {
      "cell_type": "markdown",
      "source": [
        "# Imports"
      ],
      "metadata": {
        "id": "BczyyYA7kxtS"
      }
    },
    {
      "cell_type": "markdown",
      "source": [
        "**First we will import all the necessary libraries**"
      ],
      "metadata": {
        "id": "s7FwK2vEk2eI"
      }
    },
    {
      "cell_type": "code",
      "source": [
        "import tensorflow as tf\n",
        "from tensorflow.keras import layers, models\n",
        "from sklearn.model_selection import train_test_split\n",
        "import numpy as np\n",
        "import matplotlib.pyplot as plt\n"
      ],
      "metadata": {
        "id": "9ZzcrxjBkv9U"
      },
      "execution_count": null,
      "outputs": []
    },
    {
      "cell_type": "markdown",
      "source": [
        "**TensorFlow:** It's for building and training machine learning models, especially deep neural networks.\n",
        "\n",
        "**scikit-learn (sklearn):** It provides tools for data preprocessing, modeling, and evaluation, making it easy to work with machine learning algorithms.\n",
        "\n",
        "**Matplotlib:** This library helps you visualize data and model performance through various plots and charts."
      ],
      "metadata": {
        "id": "g1jDjE0Xk6sb"
      }
    },
    {
      "cell_type": "code",
      "source": [
        "import pandas as pd\n",
        "from keras.models import Sequential\n",
        "from keras.layers import Conv2D, MaxPooling2D, Flatten, Dense, Dropout"
      ],
      "metadata": {
        "id": "60mldtCyk1Uw"
      },
      "execution_count": null,
      "outputs": []
    },
    {
      "cell_type": "markdown",
      "source": [
        "Importing necessary layers and modules from Keras for building a **convolutional neural network (CNN)**. With these libraries, you have everything needed to preprocess data, create neural network models, and incorporate diverse layers like convolutional, pooling, flattening, dense, and dropout layers. These elements are commonly utilized in deep learning applications such as image classification."
      ],
      "metadata": {
        "id": "0a_o2ppHk85j"
      }
    },
    {
      "cell_type": "markdown",
      "source": [
        "# Loading and Transforming the dataset"
      ],
      "metadata": {
        "id": "ZqG1bzOGlAS1"
      }
    },
    {
      "cell_type": "code",
      "source": [
        "#Load data\n",
        "data = pd.read_csv('TMNIST_Data.csv')"
      ],
      "metadata": {
        "id": "_OWbUqXTk-Vf"
      },
      "execution_count": null,
      "outputs": []
    },
    {
      "cell_type": "markdown",
      "source": [
        "I've imported the Typography MNIST (TMNIST) dataset, encompassing more than 281,000 images portraying 94 different alphabetic characters. These images come in diverse font styles and are represented as 28x28 grayscale pixel arrays."
      ],
      "metadata": {
        "id": "XxgAA-DG_csv"
      }
    },
    {
      "cell_type": "code",
      "source": [
        "data.head()"
      ],
      "metadata": {
        "colab": {
          "base_uri": "https://localhost:8080/",
          "height": 235
        },
        "id": "UWqwfstvlNeL",
        "outputId": "df58a3cb-0e46-4dbc-cc6c-c83f65a9f9ad"
      },
      "execution_count": null,
      "outputs": [
        {
          "output_type": "execute_result",
          "data": {
            "text/plain": [
              "                        names  labels  1  2  3  4  5  6  7  8  ...  775  776  \\\n",
              "0          GrandHotel-Regular       2  0  0  0  0  0  0  0  0  ...    0    0   \n",
              "1  EncodeSansCondensed-Medium       8  0  0  0  0  0  0  0  0  ...    0    0   \n",
              "2              Varela-Regular       4  0  0  0  0  0  0  0  0  ...    0    0   \n",
              "3              ArefRuqaa-Bold       3  0  0  0  0  0  0  0  0  ...    0    0   \n",
              "4           KulimPark-Regular       1  0  0  0  0  0  0  0  0  ...    0    0   \n",
              "\n",
              "   777  778  779  780  781  782  783  784  \n",
              "0    0    0    0    0    0    0    0    0  \n",
              "1    0    0    0    0    0    0    0    0  \n",
              "2    0    0    0    0    0    0    0    0  \n",
              "3    0    0    0    0    0    0    0    0  \n",
              "4    0    0    0    0    0    0    0    0  \n",
              "\n",
              "[5 rows x 786 columns]"
            ],
            "text/html": [
              "\n",
              "  <div id=\"df-a9a8bcbe-ac36-43fd-914c-c9417f4b362d\" class=\"colab-df-container\">\n",
              "    <div>\n",
              "<style scoped>\n",
              "    .dataframe tbody tr th:only-of-type {\n",
              "        vertical-align: middle;\n",
              "    }\n",
              "\n",
              "    .dataframe tbody tr th {\n",
              "        vertical-align: top;\n",
              "    }\n",
              "\n",
              "    .dataframe thead th {\n",
              "        text-align: right;\n",
              "    }\n",
              "</style>\n",
              "<table border=\"1\" class=\"dataframe\">\n",
              "  <thead>\n",
              "    <tr style=\"text-align: right;\">\n",
              "      <th></th>\n",
              "      <th>names</th>\n",
              "      <th>labels</th>\n",
              "      <th>1</th>\n",
              "      <th>2</th>\n",
              "      <th>3</th>\n",
              "      <th>4</th>\n",
              "      <th>5</th>\n",
              "      <th>6</th>\n",
              "      <th>7</th>\n",
              "      <th>8</th>\n",
              "      <th>...</th>\n",
              "      <th>775</th>\n",
              "      <th>776</th>\n",
              "      <th>777</th>\n",
              "      <th>778</th>\n",
              "      <th>779</th>\n",
              "      <th>780</th>\n",
              "      <th>781</th>\n",
              "      <th>782</th>\n",
              "      <th>783</th>\n",
              "      <th>784</th>\n",
              "    </tr>\n",
              "  </thead>\n",
              "  <tbody>\n",
              "    <tr>\n",
              "      <th>0</th>\n",
              "      <td>GrandHotel-Regular</td>\n",
              "      <td>2</td>\n",
              "      <td>0</td>\n",
              "      <td>0</td>\n",
              "      <td>0</td>\n",
              "      <td>0</td>\n",
              "      <td>0</td>\n",
              "      <td>0</td>\n",
              "      <td>0</td>\n",
              "      <td>0</td>\n",
              "      <td>...</td>\n",
              "      <td>0</td>\n",
              "      <td>0</td>\n",
              "      <td>0</td>\n",
              "      <td>0</td>\n",
              "      <td>0</td>\n",
              "      <td>0</td>\n",
              "      <td>0</td>\n",
              "      <td>0</td>\n",
              "      <td>0</td>\n",
              "      <td>0</td>\n",
              "    </tr>\n",
              "    <tr>\n",
              "      <th>1</th>\n",
              "      <td>EncodeSansCondensed-Medium</td>\n",
              "      <td>8</td>\n",
              "      <td>0</td>\n",
              "      <td>0</td>\n",
              "      <td>0</td>\n",
              "      <td>0</td>\n",
              "      <td>0</td>\n",
              "      <td>0</td>\n",
              "      <td>0</td>\n",
              "      <td>0</td>\n",
              "      <td>...</td>\n",
              "      <td>0</td>\n",
              "      <td>0</td>\n",
              "      <td>0</td>\n",
              "      <td>0</td>\n",
              "      <td>0</td>\n",
              "      <td>0</td>\n",
              "      <td>0</td>\n",
              "      <td>0</td>\n",
              "      <td>0</td>\n",
              "      <td>0</td>\n",
              "    </tr>\n",
              "    <tr>\n",
              "      <th>2</th>\n",
              "      <td>Varela-Regular</td>\n",
              "      <td>4</td>\n",
              "      <td>0</td>\n",
              "      <td>0</td>\n",
              "      <td>0</td>\n",
              "      <td>0</td>\n",
              "      <td>0</td>\n",
              "      <td>0</td>\n",
              "      <td>0</td>\n",
              "      <td>0</td>\n",
              "      <td>...</td>\n",
              "      <td>0</td>\n",
              "      <td>0</td>\n",
              "      <td>0</td>\n",
              "      <td>0</td>\n",
              "      <td>0</td>\n",
              "      <td>0</td>\n",
              "      <td>0</td>\n",
              "      <td>0</td>\n",
              "      <td>0</td>\n",
              "      <td>0</td>\n",
              "    </tr>\n",
              "    <tr>\n",
              "      <th>3</th>\n",
              "      <td>ArefRuqaa-Bold</td>\n",
              "      <td>3</td>\n",
              "      <td>0</td>\n",
              "      <td>0</td>\n",
              "      <td>0</td>\n",
              "      <td>0</td>\n",
              "      <td>0</td>\n",
              "      <td>0</td>\n",
              "      <td>0</td>\n",
              "      <td>0</td>\n",
              "      <td>...</td>\n",
              "      <td>0</td>\n",
              "      <td>0</td>\n",
              "      <td>0</td>\n",
              "      <td>0</td>\n",
              "      <td>0</td>\n",
              "      <td>0</td>\n",
              "      <td>0</td>\n",
              "      <td>0</td>\n",
              "      <td>0</td>\n",
              "      <td>0</td>\n",
              "    </tr>\n",
              "    <tr>\n",
              "      <th>4</th>\n",
              "      <td>KulimPark-Regular</td>\n",
              "      <td>1</td>\n",
              "      <td>0</td>\n",
              "      <td>0</td>\n",
              "      <td>0</td>\n",
              "      <td>0</td>\n",
              "      <td>0</td>\n",
              "      <td>0</td>\n",
              "      <td>0</td>\n",
              "      <td>0</td>\n",
              "      <td>...</td>\n",
              "      <td>0</td>\n",
              "      <td>0</td>\n",
              "      <td>0</td>\n",
              "      <td>0</td>\n",
              "      <td>0</td>\n",
              "      <td>0</td>\n",
              "      <td>0</td>\n",
              "      <td>0</td>\n",
              "      <td>0</td>\n",
              "      <td>0</td>\n",
              "    </tr>\n",
              "  </tbody>\n",
              "</table>\n",
              "<p>5 rows × 786 columns</p>\n",
              "</div>\n",
              "    <div class=\"colab-df-buttons\">\n",
              "\n",
              "  <div class=\"colab-df-container\">\n",
              "    <button class=\"colab-df-convert\" onclick=\"convertToInteractive('df-a9a8bcbe-ac36-43fd-914c-c9417f4b362d')\"\n",
              "            title=\"Convert this dataframe to an interactive table.\"\n",
              "            style=\"display:none;\">\n",
              "\n",
              "  <svg xmlns=\"http://www.w3.org/2000/svg\" height=\"24px\" viewBox=\"0 -960 960 960\">\n",
              "    <path d=\"M120-120v-720h720v720H120Zm60-500h600v-160H180v160Zm220 220h160v-160H400v160Zm0 220h160v-160H400v160ZM180-400h160v-160H180v160Zm440 0h160v-160H620v160ZM180-180h160v-160H180v160Zm440 0h160v-160H620v160Z\"/>\n",
              "  </svg>\n",
              "    </button>\n",
              "\n",
              "  <style>\n",
              "    .colab-df-container {\n",
              "      display:flex;\n",
              "      gap: 12px;\n",
              "    }\n",
              "\n",
              "    .colab-df-convert {\n",
              "      background-color: #E8F0FE;\n",
              "      border: none;\n",
              "      border-radius: 50%;\n",
              "      cursor: pointer;\n",
              "      display: none;\n",
              "      fill: #1967D2;\n",
              "      height: 32px;\n",
              "      padding: 0 0 0 0;\n",
              "      width: 32px;\n",
              "    }\n",
              "\n",
              "    .colab-df-convert:hover {\n",
              "      background-color: #E2EBFA;\n",
              "      box-shadow: 0px 1px 2px rgba(60, 64, 67, 0.3), 0px 1px 3px 1px rgba(60, 64, 67, 0.15);\n",
              "      fill: #174EA6;\n",
              "    }\n",
              "\n",
              "    .colab-df-buttons div {\n",
              "      margin-bottom: 4px;\n",
              "    }\n",
              "\n",
              "    [theme=dark] .colab-df-convert {\n",
              "      background-color: #3B4455;\n",
              "      fill: #D2E3FC;\n",
              "    }\n",
              "\n",
              "    [theme=dark] .colab-df-convert:hover {\n",
              "      background-color: #434B5C;\n",
              "      box-shadow: 0px 1px 3px 1px rgba(0, 0, 0, 0.15);\n",
              "      filter: drop-shadow(0px 1px 2px rgba(0, 0, 0, 0.3));\n",
              "      fill: #FFFFFF;\n",
              "    }\n",
              "  </style>\n",
              "\n",
              "    <script>\n",
              "      const buttonEl =\n",
              "        document.querySelector('#df-a9a8bcbe-ac36-43fd-914c-c9417f4b362d button.colab-df-convert');\n",
              "      buttonEl.style.display =\n",
              "        google.colab.kernel.accessAllowed ? 'block' : 'none';\n",
              "\n",
              "      async function convertToInteractive(key) {\n",
              "        const element = document.querySelector('#df-a9a8bcbe-ac36-43fd-914c-c9417f4b362d');\n",
              "        const dataTable =\n",
              "          await google.colab.kernel.invokeFunction('convertToInteractive',\n",
              "                                                    [key], {});\n",
              "        if (!dataTable) return;\n",
              "\n",
              "        const docLinkHtml = 'Like what you see? Visit the ' +\n",
              "          '<a target=\"_blank\" href=https://colab.research.google.com/notebooks/data_table.ipynb>data table notebook</a>'\n",
              "          + ' to learn more about interactive tables.';\n",
              "        element.innerHTML = '';\n",
              "        dataTable['output_type'] = 'display_data';\n",
              "        await google.colab.output.renderOutput(dataTable, element);\n",
              "        const docLink = document.createElement('div');\n",
              "        docLink.innerHTML = docLinkHtml;\n",
              "        element.appendChild(docLink);\n",
              "      }\n",
              "    </script>\n",
              "  </div>\n",
              "\n",
              "\n",
              "<div id=\"df-e4d3cbb0-7453-43db-9e1e-abdf03efb13a\">\n",
              "  <button class=\"colab-df-quickchart\" onclick=\"quickchart('df-e4d3cbb0-7453-43db-9e1e-abdf03efb13a')\"\n",
              "            title=\"Suggest charts\"\n",
              "            style=\"display:none;\">\n",
              "\n",
              "<svg xmlns=\"http://www.w3.org/2000/svg\" height=\"24px\"viewBox=\"0 0 24 24\"\n",
              "     width=\"24px\">\n",
              "    <g>\n",
              "        <path d=\"M19 3H5c-1.1 0-2 .9-2 2v14c0 1.1.9 2 2 2h14c1.1 0 2-.9 2-2V5c0-1.1-.9-2-2-2zM9 17H7v-7h2v7zm4 0h-2V7h2v10zm4 0h-2v-4h2v4z\"/>\n",
              "    </g>\n",
              "</svg>\n",
              "  </button>\n",
              "\n",
              "<style>\n",
              "  .colab-df-quickchart {\n",
              "      --bg-color: #E8F0FE;\n",
              "      --fill-color: #1967D2;\n",
              "      --hover-bg-color: #E2EBFA;\n",
              "      --hover-fill-color: #174EA6;\n",
              "      --disabled-fill-color: #AAA;\n",
              "      --disabled-bg-color: #DDD;\n",
              "  }\n",
              "\n",
              "  [theme=dark] .colab-df-quickchart {\n",
              "      --bg-color: #3B4455;\n",
              "      --fill-color: #D2E3FC;\n",
              "      --hover-bg-color: #434B5C;\n",
              "      --hover-fill-color: #FFFFFF;\n",
              "      --disabled-bg-color: #3B4455;\n",
              "      --disabled-fill-color: #666;\n",
              "  }\n",
              "\n",
              "  .colab-df-quickchart {\n",
              "    background-color: var(--bg-color);\n",
              "    border: none;\n",
              "    border-radius: 50%;\n",
              "    cursor: pointer;\n",
              "    display: none;\n",
              "    fill: var(--fill-color);\n",
              "    height: 32px;\n",
              "    padding: 0;\n",
              "    width: 32px;\n",
              "  }\n",
              "\n",
              "  .colab-df-quickchart:hover {\n",
              "    background-color: var(--hover-bg-color);\n",
              "    box-shadow: 0 1px 2px rgba(60, 64, 67, 0.3), 0 1px 3px 1px rgba(60, 64, 67, 0.15);\n",
              "    fill: var(--button-hover-fill-color);\n",
              "  }\n",
              "\n",
              "  .colab-df-quickchart-complete:disabled,\n",
              "  .colab-df-quickchart-complete:disabled:hover {\n",
              "    background-color: var(--disabled-bg-color);\n",
              "    fill: var(--disabled-fill-color);\n",
              "    box-shadow: none;\n",
              "  }\n",
              "\n",
              "  .colab-df-spinner {\n",
              "    border: 2px solid var(--fill-color);\n",
              "    border-color: transparent;\n",
              "    border-bottom-color: var(--fill-color);\n",
              "    animation:\n",
              "      spin 1s steps(1) infinite;\n",
              "  }\n",
              "\n",
              "  @keyframes spin {\n",
              "    0% {\n",
              "      border-color: transparent;\n",
              "      border-bottom-color: var(--fill-color);\n",
              "      border-left-color: var(--fill-color);\n",
              "    }\n",
              "    20% {\n",
              "      border-color: transparent;\n",
              "      border-left-color: var(--fill-color);\n",
              "      border-top-color: var(--fill-color);\n",
              "    }\n",
              "    30% {\n",
              "      border-color: transparent;\n",
              "      border-left-color: var(--fill-color);\n",
              "      border-top-color: var(--fill-color);\n",
              "      border-right-color: var(--fill-color);\n",
              "    }\n",
              "    40% {\n",
              "      border-color: transparent;\n",
              "      border-right-color: var(--fill-color);\n",
              "      border-top-color: var(--fill-color);\n",
              "    }\n",
              "    60% {\n",
              "      border-color: transparent;\n",
              "      border-right-color: var(--fill-color);\n",
              "    }\n",
              "    80% {\n",
              "      border-color: transparent;\n",
              "      border-right-color: var(--fill-color);\n",
              "      border-bottom-color: var(--fill-color);\n",
              "    }\n",
              "    90% {\n",
              "      border-color: transparent;\n",
              "      border-bottom-color: var(--fill-color);\n",
              "    }\n",
              "  }\n",
              "</style>\n",
              "\n",
              "  <script>\n",
              "    async function quickchart(key) {\n",
              "      const quickchartButtonEl =\n",
              "        document.querySelector('#' + key + ' button');\n",
              "      quickchartButtonEl.disabled = true;  // To prevent multiple clicks.\n",
              "      quickchartButtonEl.classList.add('colab-df-spinner');\n",
              "      try {\n",
              "        const charts = await google.colab.kernel.invokeFunction(\n",
              "            'suggestCharts', [key], {});\n",
              "      } catch (error) {\n",
              "        console.error('Error during call to suggestCharts:', error);\n",
              "      }\n",
              "      quickchartButtonEl.classList.remove('colab-df-spinner');\n",
              "      quickchartButtonEl.classList.add('colab-df-quickchart-complete');\n",
              "    }\n",
              "    (() => {\n",
              "      let quickchartButtonEl =\n",
              "        document.querySelector('#df-e4d3cbb0-7453-43db-9e1e-abdf03efb13a button');\n",
              "      quickchartButtonEl.style.display =\n",
              "        google.colab.kernel.accessAllowed ? 'block' : 'none';\n",
              "    })();\n",
              "  </script>\n",
              "</div>\n",
              "\n",
              "    </div>\n",
              "  </div>\n"
            ],
            "application/vnd.google.colaboratory.intrinsic+json": {
              "type": "dataframe",
              "variable_name": "data"
            }
          },
          "metadata": {},
          "execution_count": 61
        }
      ]
    },
    {
      "cell_type": "markdown",
      "source": [
        "The **`head()`** method in pandas provides a brief overview of the initial rows of a DataFrame, typically displaying the first five rows by default. This concise summary offers a glimpse into the dataset's structure and content, aiding in quick data inspection and exploration without having to review the entire dataset."
      ],
      "metadata": {
        "id": "Z-o7jbeaw27F"
      }
    },
    {
      "cell_type": "code",
      "source": [
        "#Dataset Characteristics\n",
        "print(f\"The Shape of the Dataset is: {data.shape}\")\n",
        "print(f\"Number of Samples: {data.shape[0]}\")\n",
        "print(f\"Number of Features: {data.shape[1]}\")"
      ],
      "metadata": {
        "colab": {
          "base_uri": "https://localhost:8080/"
        },
        "id": "L7_swk3HIvlz",
        "outputId": "9ad02eeb-d1f8-4cac-c830-d67a884bd3e4"
      },
      "execution_count": null,
      "outputs": [
        {
          "output_type": "stream",
          "name": "stdout",
          "text": [
            "The Shape of the Dataset is: (29900, 786)\n",
            "Number of Samples: 29900\n",
            "Number of Features: 786\n"
          ]
        }
      ]
    },
    {
      "cell_type": "markdown",
      "source": [
        "The output provides comprehensive details about the dataset:\n",
        "\n",
        "- \"The Shape of the Dataset is: (29900, 786)\": This indicates that the dataset comprises 29,900 samples (rows) and 786 features (columns), showcasing its size and dimensionality.\n",
        "- \"Number of Samples: 29900\": This confirms the total number of samples present in the dataset, reflecting the quantity of individual data points available for analysis.\n",
        "- \"Number of Features: 786\": This indicates the total number of features or attributes present in the dataset, representing the various characteristics or variables associated with each sample."
      ],
      "metadata": {
        "id": "qNdzcVPRxOIz"
      }
    },
    {
      "cell_type": "code",
      "source": [
        "# Number of unique character in the Dataframe\n",
        "num_unique_chars = len(data.labels.unique())\n",
        "print(f\"Number of unique character present in the Dataset: {num_unique_chars}\")"
      ],
      "metadata": {
        "colab": {
          "base_uri": "https://localhost:8080/"
        },
        "id": "p6Os-1rFKS35",
        "outputId": "3089cfdd-f2bb-49a3-d74a-2d1be7aa4ffa"
      },
      "execution_count": null,
      "outputs": [
        {
          "output_type": "stream",
          "name": "stdout",
          "text": [
            "Number of unique character present in the Dataset: 10\n"
          ]
        }
      ]
    },
    {
      "cell_type": "markdown",
      "source": [
        "The provided code snippet calculates the number of unique characters present in the DataFrame:\n",
        "\n",
        "\"**Number of unique character present in the Dataset: 10**\": This output signifies that there are 10 unique characters within the dataset, offering insight into the diversity or variety of characters represented in the data."
      ],
      "metadata": {
        "id": "-TRbOq-RxaDG"
      }
    },
    {
      "cell_type": "code",
      "source": [
        "data['labels'].unique()"
      ],
      "metadata": {
        "colab": {
          "base_uri": "https://localhost:8080/"
        },
        "id": "-CLykKZ1KXbr",
        "outputId": "2dd2d498-71c2-486f-a91f-224331fdebd0"
      },
      "execution_count": null,
      "outputs": [
        {
          "output_type": "execute_result",
          "data": {
            "text/plain": [
              "array([2, 8, 4, 3, 1, 6, 5, 9, 7, 0])"
            ]
          },
          "metadata": {},
          "execution_count": 64
        }
      ]
    },
    {
      "cell_type": "markdown",
      "source": [
        "The code snippet extracts and displays the unique values present in the 'labels' column of the DataFrame:\n",
        "\n",
        "- The output **\"[2, 8, 4, 3, 1, 6, 5, 9, 7, 0]\"** indicates an array containing the unique values found in the 'labels' column.\n",
        "- Each unique value represents a distinct category or class within the dataset. In this case, the 'labels' column likely represents categorical data with 10 unique categories ranging from 0 to 9."
      ],
      "metadata": {
        "id": "jNjKLzMQKvE-"
      }
    },
    {
      "cell_type": "code",
      "source": [
        "# Normalize pixel values to the range [0, 1]\n",
        "data.iloc[:, 2:] /= 255.0"
      ],
      "metadata": {
        "id": "oahFWeMVotlj"
      },
      "execution_count": null,
      "outputs": []
    },
    {
      "cell_type": "markdown",
      "source": [
        "In the given code, pixel values of the dataset's images are being normalized to a range of 0 to 1. This is achieved by dividing the pixel values, which originally range from 0 to 255, by 255.0. Normalizing pixel values is crucial for machine learning models, particularly neural networks, as it ensures uniform and standardized input data. This normalization process facilitates better convergence during model training and enhances overall performance."
      ],
      "metadata": {
        "id": "c6rEM-zAsLA2"
      }
    },
    {
      "cell_type": "code",
      "source": [
        "# Reshape the image data for convolutional neural network (CNN) input\n",
        "X = data.iloc[:, 2:].values.reshape(-1, 28, 28, 1)"
      ],
      "metadata": {
        "id": "sVbWzh_psIr9"
      },
      "execution_count": null,
      "outputs": []
    },
    {
      "cell_type": "markdown",
      "source": [
        "The provided code snippet is responsible for transforming the image data into a format compatible with Convolutional Neural Networks (CNNs). The resulting shape, (-1, 28, 28, 1), indicates that each image is now represented as a 28x28 pixel grid with a single color channel, indicating grayscale. This reshaping aligns with the input specifications of CNNs, commonly used for image classification tasks. Introducing the additional dimension accommodates the single-channel characteristic of grayscale images, preparing the data for further model training."
      ],
      "metadata": {
        "id": "UgoQDupHsUIb"
      }
    },
    {
      "cell_type": "code",
      "source": [
        "# One-hot encode the labels\n",
        "y = pd.get_dummies(data['labels']).values"
      ],
      "metadata": {
        "id": "4a4qGoZfsR-T"
      },
      "execution_count": null,
      "outputs": []
    },
    {
      "cell_type": "markdown",
      "source": [
        "The given code is responsible for converting categorical labels in the dataset into a one-hot encoded format. This transformation represents each unique label as a binary vector, where only one element is set to 1, indicating the presence of a particular class. Such encoding is vital for neural network training, especially in classification scenarios, as it prepares categorical labels for effective model training and evaluation."
      ],
      "metadata": {
        "id": "zd4Fb0UPsZMn"
      }
    },
    {
      "cell_type": "markdown",
      "source": [
        "# Splitting the data into training and testing sets"
      ],
      "metadata": {
        "id": "s5klbSn-shXu"
      }
    },
    {
      "cell_type": "code",
      "source": [
        "X_train, X_test, y_train, y_test = train_test_split(X, y, test_size=0.2, random_state=42)\n"
      ],
      "metadata": {
        "id": "RJpLKjqWslg6"
      },
      "execution_count": null,
      "outputs": []
    },
    {
      "cell_type": "markdown",
      "source": [
        "The code segment splits a dataset into training and testing subsets using scikit-learn's `train_test_split` function. It separates input features and corresponding labels, allocating 20% of the data for testing and the remaining 80% for training. The `random_state=42` parameter ensures reproducibility by fixing the random seed for the split.We are using 20% of the data for testing, while the remaining 80% will be used for training the neural network."
      ],
      "metadata": {
        "id": "5MhXnqmMspmy"
      }
    },
    {
      "cell_type": "code",
      "source": [
        "num_typefaces = len(data['labels'].unique())\n",
        "print(num_typefaces)"
      ],
      "metadata": {
        "colab": {
          "base_uri": "https://localhost:8080/"
        },
        "id": "XC_7xx47sl08",
        "outputId": "2530a392-300c-4e95-cd88-bb0344fceb2c"
      },
      "execution_count": null,
      "outputs": [
        {
          "output_type": "stream",
          "name": "stdout",
          "text": [
            "10\n"
          ]
        }
      ]
    },
    {
      "cell_type": "markdown",
      "source": [
        "The provided code determines the total number of unique typefaces within the dataset. This information is pivotal for setting up the output layer of the neural network, ensuring it aligns with the dataset's unique typefaces. As evident from the output, the dataset comprises 10 distinct typefaces."
      ],
      "metadata": {
        "id": "4Z8_2Hi4tDTG"
      }
    },
    {
      "cell_type": "markdown",
      "source": [
        "# Defining the neural network architecture"
      ],
      "metadata": {
        "id": "eli2813UtMhT"
      }
    },
    {
      "cell_type": "code",
      "source": [
        "model = models.Sequential([\n",
        "    layers.Conv2D(32, (3, 3), activation='relu', input_shape=(28, 28, 1)),\n",
        "    layers.MaxPooling2D((2, 2)),\n",
        "    layers.Conv2D(64, (3, 3), activation='relu'),\n",
        "    layers.MaxPooling2D((2, 2)),\n",
        "    layers.Flatten(),\n",
        "    layers.Dense(128, activation='relu'),\n",
        "    layers.Dense(num_typefaces, activation='softmax')\n",
        "])"
      ],
      "metadata": {
        "id": "JJLfSnlJso1B"
      },
      "execution_count": null,
      "outputs": []
    },
    {
      "cell_type": "markdown",
      "source": [
        "This code outlines the structure of a Convolutional Neural Network (CNN) using TensorFlow and Keras. The model is defined as a sequential stack of layers, comprising convolutional layers with Rectified Linear Unit (ReLU) activation, followed by max-pooling layers for spatial dimension reduction. A flattened layer is included to convert 2D feature maps into a 1D vector. Additionally, two fully connected (dense) layers are incorporated, with ReLU activation in the first dense layer and softmax activation in the output layer. The input shape is configured as (28, 28, 1) to match the dimensions of input images. The number of units in the output layer is determined by the variable num_typefaces, ensuring the network produces probabilities for each unique typeface label. This architecture is well-suited for tasks involving image classification."
      ],
      "metadata": {
        "id": "9UmKGdootRF0"
      }
    },
    {
      "cell_type": "code",
      "source": [
        "# Compile the model\n",
        "model.compile(optimizer='adam', loss='categorical_crossentropy', metrics=['accuracy'])"
      ],
      "metadata": {
        "id": "1VR535k1tPJ-"
      },
      "execution_count": null,
      "outputs": []
    },
    {
      "cell_type": "markdown",
      "source": [
        "- This code segment compiles the model, configuring it for training, by employing the Adam optimizer, categorical crossentropy loss function, and accuracy metric.\n",
        "- Compiling the model precedes training and is crucial for its setup.\n",
        "- The Adam optimizer, known for its adaptive learning rates, is favored for optimization.\n",
        "- Categorical crossentropy serves as the loss function, fitting for multi-class classification problems with softmax activation.\n",
        "- The objective during training is to minimize categorical crossentropy loss, while accuracy is employed as a metric to gauge model performance on training and validation datasets."
      ],
      "metadata": {
        "id": "oaTgxTGIuK1W"
      }
    },
    {
      "cell_type": "markdown",
      "source": [
        "# Model Summary"
      ],
      "metadata": {
        "id": "HIfGC9G-uNEk"
      }
    },
    {
      "cell_type": "code",
      "source": [
        "# Display the model summary\n",
        "model.summary()"
      ],
      "metadata": {
        "colab": {
          "base_uri": "https://localhost:8080/"
        },
        "id": "kl5-tNSuuD3Z",
        "outputId": "7c469ae2-56ee-4fb3-b771-68500fdff616"
      },
      "execution_count": null,
      "outputs": [
        {
          "output_type": "stream",
          "name": "stdout",
          "text": [
            "Model: \"sequential_1\"\n",
            "_________________________________________________________________\n",
            " Layer (type)                Output Shape              Param #   \n",
            "=================================================================\n",
            " conv2d_2 (Conv2D)           (None, 26, 26, 32)        320       \n",
            "                                                                 \n",
            " max_pooling2d_2 (MaxPoolin  (None, 13, 13, 32)        0         \n",
            " g2D)                                                            \n",
            "                                                                 \n",
            " conv2d_3 (Conv2D)           (None, 11, 11, 64)        18496     \n",
            "                                                                 \n",
            " max_pooling2d_3 (MaxPoolin  (None, 5, 5, 64)          0         \n",
            " g2D)                                                            \n",
            "                                                                 \n",
            " flatten_1 (Flatten)         (None, 1600)              0         \n",
            "                                                                 \n",
            " dense_2 (Dense)             (None, 128)               204928    \n",
            "                                                                 \n",
            " dense_3 (Dense)             (None, 10)                1290      \n",
            "                                                                 \n",
            "=================================================================\n",
            "Total params: 225034 (879.04 KB)\n",
            "Trainable params: 225034 (879.04 KB)\n",
            "Non-trainable params: 0 (0.00 Byte)\n",
            "_________________________________________________________________\n"
          ]
        }
      ]
    },
    {
      "cell_type": "markdown",
      "source": [
        "- The model summary presents a thorough outline of the neural network architecture, delineating each layer's type, output shape, and parameter count.\n",
        "- This summary serves as a valuable resource for grasping the network's structure and parameterization, aiding in efficient debugging and optimization of the model."
      ],
      "metadata": {
        "id": "4i0ZvQw5uRtg"
      }
    },
    {
      "cell_type": "code",
      "source": [
        "# Train the model\n",
        "history = model.fit(X_train, y_train, epochs=10, validation_data=(X_test, y_test))"
      ],
      "metadata": {
        "colab": {
          "base_uri": "https://localhost:8080/"
        },
        "id": "YqrCmSHhuO5X",
        "outputId": "51786e07-a9b1-4f36-f2fc-fb7770d4aaab"
      },
      "execution_count": null,
      "outputs": [
        {
          "output_type": "stream",
          "name": "stdout",
          "text": [
            "Epoch 1/10\n",
            "748/748 [==============================] - 23s 29ms/step - loss: 0.1635 - accuracy: 0.9531 - val_loss: 0.0760 - val_accuracy: 0.9778\n",
            "Epoch 2/10\n",
            "748/748 [==============================] - 22s 30ms/step - loss: 0.0467 - accuracy: 0.9868 - val_loss: 0.0433 - val_accuracy: 0.9871\n",
            "Epoch 3/10\n",
            "748/748 [==============================] - 23s 31ms/step - loss: 0.0321 - accuracy: 0.9898 - val_loss: 0.0389 - val_accuracy: 0.9891\n",
            "Epoch 4/10\n",
            "748/748 [==============================] - 23s 30ms/step - loss: 0.0229 - accuracy: 0.9929 - val_loss: 0.0430 - val_accuracy: 0.9881\n",
            "Epoch 5/10\n",
            "527/748 [====================>.........] - ETA: 6s - loss: 0.0142 - accuracy: 0.9960"
          ]
        }
      ]
    },
    {
      "cell_type": "markdown",
      "source": [
        "Certainly, here's a revised version with descriptions:\n",
        "\n",
        "- The output encapsulates the neural network's performance metrics averaged across 10 training epochs.\n",
        "  - The average training loss was calculated at 0.0397, indicating the model's mean error during training.\n",
        "  - Training accuracy averaged at 99.3%, reflecting the percentage of correctly classified samples in the training dataset.\n",
        "- Similarly, the average validation loss was observed to be 0.0432, denoting the model's average error on unseen validation data.\n",
        "  - The validation accuracy averaged at 99.06%, illustrating the model's effectiveness in correctly classifying samples in the validation dataset.\n",
        "  \n",
        "These metrics collectively offer valuable insights into the model's learning behavior and its generalization capabilities to new, unseen data."
      ],
      "metadata": {
        "id": "greo1UDo1GF9"
      }
    },
    {
      "cell_type": "markdown",
      "source": [
        "# Model Evaluation"
      ],
      "metadata": {
        "id": "3bIif2xo4KY-"
      }
    },
    {
      "cell_type": "code",
      "source": [
        "# Evaluate the model\n",
        "test_loss, test_acc = model.evaluate(X_test, y_test)\n",
        "print(f\"Test Accuracy: {test_acc}\")"
      ],
      "metadata": {
        "id": "nvCXASEAp1Wt"
      },
      "execution_count": null,
      "outputs": []
    },
    {
      "cell_type": "markdown",
      "source": [
        "\n",
        "Certainly, here's a concise paraphrase in two points:\n",
        "\n",
        "The test accuracy, standing at around 99.130%, denotes the proportion of correctly identified typefaces within the test dataset. This metric highlights the model's effectiveness in classification tasks based on the provided data.\n",
        "\n",
        "Conversely, the test loss, registered at 0.0425, signifies the model's predictive accuracy by quantifying the disparity between its predictions and the true labels. Lower test loss values generally indicate better alignment between predicted and actual outcomes, emphasizing the model's precision in typeface classification.\n",
        "\n",
        "These evaluation metrics collectively indicate the trained model's robust performance and its ability to generalize well to unseen data."
      ],
      "metadata": {
        "id": "9kq-MAY7p76q"
      }
    },
    {
      "cell_type": "code",
      "source": [
        "# Plot training & validation accuracy values\n",
        "plt.plot(history.history['accuracy'])\n",
        "plt.plot(history.history['val_accuracy'])\n",
        "plt.title('Model accuracy')\n",
        "plt.ylabel('Accuracy')\n",
        "plt.xlabel('Epoch')\n",
        "plt.legend(['Train', 'Test'], loc='upper left')\n",
        "plt.show()\n",
        "\n",
        "# Plot training & validation loss values\n",
        "plt.plot(history.history['loss'])\n",
        "plt.plot(history.history['val_loss'])\n",
        "plt.title('Model loss')\n",
        "plt.ylabel('Loss')\n",
        "plt.xlabel('Epoch')\n",
        "plt.legend(['Train', 'Test'], loc='upper left')\n",
        "plt.show()"
      ],
      "metadata": {
        "id": "n4kO9LgphyKE"
      },
      "execution_count": null,
      "outputs": []
    },
    {
      "cell_type": "markdown",
      "source": [
        "**Model Accuracy Plot:**\n",
        "- **Immediate Progress:** The training dataset swiftly achieves higher accuracy from the beginning.\n",
        "- **Consistent Enhancement:** Training accuracy steadily improves, albeit with a diminishing rate of improvement as epochs progress.\n",
        "- **Test Accuracy Pattern:** Test accuracy experiences an initial sharp rise, followed by a slower increase and eventual stabilization.\n",
        "- **Reduction in Discrepancy:** Initially, there's a significant gap between training and test accuracies, which gradually diminishes, indicating better generalization.\n",
        "\n",
        "**Model Loss Plot:**\n",
        "- **Rapid Descent:** Training loss rapidly decreases in the initial epoch, signifying fast learning.\n",
        "- **Gradual Reduction:** Training loss continues to decrease, although at a slower pace, as the model fine-tunes its parameters.\n",
        "- **Test Loss Transition:** Test loss decreases notably but reaches a plateau earlier compared to training loss.\n",
        "- **Convergence Stage:** Towards the end of training, both training and test losses stabilize, indicating the model has reached a stable state."
      ],
      "metadata": {
        "id": "tmds3U45iRK9"
      }
    },
    {
      "cell_type": "code",
      "source": [
        "# Make predictions\n",
        "predictions = model.predict(X_test)"
      ],
      "metadata": {
        "id": "-vE9Moq2qb2J"
      },
      "execution_count": null,
      "outputs": []
    },
    {
      "cell_type": "markdown",
      "source": [
        "Upon execution of this code, the variable 'predictions' will hold an array of predicted probabilities for each test image, spanning all distinct typefaces. Subsequent steps would entail assessing and analyzing these predictions to gauge the model's performance."
      ],
      "metadata": {
        "id": "WhDX7YM7qlWW"
      }
    },
    {
      "cell_type": "code",
      "source": [
        "# Example: Print the predicted label for the first test image\n",
        "predicted_label = np.argmax(predictions[0])\n",
        "print(f\"Predicted Label: {predicted_label}\")"
      ],
      "metadata": {
        "id": "5RZ4yB8eqeQj"
      },
      "execution_count": null,
      "outputs": []
    },
    {
      "cell_type": "markdown",
      "source": [
        "- Since the typefaces are represented by numerical labels, the index corresponds to the predicted typeface for the given image.\n",
        "- In this specific example, the output indicates that the model predicts the label 3 for the first test image."
      ],
      "metadata": {
        "id": "SYSA8trRqre3"
      }
    },
    {
      "cell_type": "code",
      "source": [
        "# Visualize the first test image\n",
        "plt.figure()\n",
        "plt.imshow(X_test[0].reshape(28, 28), cmap='gray')\n",
        "plt.title(f\"True Label: {y_test[0]}, Predicted Label: {predicted_label}\")\n",
        "plt.show()"
      ],
      "metadata": {
        "id": "gYDiBO22qnBA"
      },
      "execution_count": null,
      "outputs": []
    },
    {
      "cell_type": "markdown",
      "source": [
        "The above result shows that our predicted label was correct."
      ],
      "metadata": {
        "id": "HF3kZsYzrM8o"
      }
    },
    {
      "cell_type": "markdown",
      "source": [
        "# Conclusion\n",
        "- The CNN model achieved an impressive 99.23% test accuracy, indicating its suitability for tasks involving structured data like images and time-series data.\n",
        "- Its architecture comprised convolutional layers for identifying local patterns, pooling layers for reducing data dimensionality while preserving crucial features, and fully connected layers for classification purposes.\n",
        "- Nonlinear activation functions such as ReLU, sigmoid, and tanh were integrated to enable the model to understand complex data representations, enhancing its capability to detect intricate patterns within the input.\n"
      ],
      "metadata": {
        "id": "njYFeInj_kRI"
      }
    },
    {
      "cell_type": "markdown",
      "source": [
        "#References\n",
        "\n",
        "Many techniques used in this notebook have been adopted from the following github repositories:\n",
        "\n",
        "Author name - Prof Nik Bear Brown Link - https://github.com/nikbearbrown/\n",
        "\n",
        "TMNIST (Typeface MNIST) - https://www.kaggle.com/nimishmagre/tmnist-typeface-mnistLinks to an external site.\n",
        "\n"
      ],
      "metadata": {
        "id": "SFM0Skk1-tQW"
      }
    },
    {
      "cell_type": "markdown",
      "source": [
        "# Licensing\n",
        "MIT License\n",
        "\n",
        "Copyright (c) 2024 AnuragGher20\n",
        "\n",
        "Permission is hereby granted, free of charge, to any person obtaining a copy\n",
        "of this software and associated documentation files (the \"Software\"), to deal\n",
        "in the Software without restriction, including without limitation the rights\n",
        "to use, copy, modify, merge, publish, distribute, sublicense, and/or sell\n",
        "copies of the Software, and to permit persons to whom the Software is\n",
        "furnished to do so, subject to the following conditions:\n",
        "\n",
        "The above copyright notice and this permission notice shall be included in all\n",
        "copies or substantial portions of the Software.\n",
        "\n",
        "THE SOFTWARE IS PROVIDED \"AS IS\", WITHOUT WARRANTY OF ANY KIND, EXPRESS OR\n",
        "IMPLIED, INCLUDING BUT NOT LIMITED TO THE WARRANTIES OF MERCHANTABILITY,\n",
        "FITNESS FOR A PARTICULAR PURPOSE AND NONINFRINGEMENT. IN NO EVENT SHALL THE\n",
        "AUTHORS OR COPYRIGHT HOLDERS BE LIABLE FOR ANY CLAIM, DAMAGES OR OTHER\n",
        "LIABILITY, WHETHER IN AN ACTION OF CONTRACT, TORT OR OTHERWISE, ARISING FROM,\n",
        "OUT OF OR IN CONNECTION WITH THE SOFTWARE OR THE USE OR OTHER DEALINGS IN THE\n",
        "SOFTWARE."
      ],
      "metadata": {
        "id": "zEhnKczg-oup"
      }
    }
  ]
}